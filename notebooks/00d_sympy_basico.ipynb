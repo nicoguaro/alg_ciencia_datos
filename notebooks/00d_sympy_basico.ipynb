{
 "cells": [
  {
   "cell_type": "markdown",
   "metadata": {},
   "source": [
    "# SymPy\n",
    "    \n",
    "    "
   ]
  },
  {
   "cell_type": "markdown",
   "metadata": {},
   "source": [
    "[SymPy](https://es.wikipedia.org/wiki/SymPy) es una biblioteca de Python que permite realizar cálculos simbólicos.\n",
    "Nos ofrece las capacidades de álgebra computacional, y se puede usar en línea a través de [SymPy Live](http://live.sympy.org/) o [SymPy Gamma](http://www.sympygamma.com/), este último es similar a\n",
    "[Wolfram Alpha](https://www.wolframalpha.com/).\n",
    "\n",
    "Si usas Anaconda este paquete ya viene instalado por defecto pero si se usa miniconda o pip debe instalarse.\n",
    "\n",
    "````python\n",
    "conda install sympy # Usando el gestor conda de Anaconda/Miniconda\n",
    "pip install sympy # Usando el gestor pip (puede requerir instalar más paquetes)\n",
    "````\n"
   ]
  },
  {
   "cell_type": "markdown",
   "metadata": {},
   "source": [
    "Lo primero que debemos hacer, antes de usarlo, es importar el módulo, como con cualquier\n",
    "otra biblioteca de Python.\n",
    "\n",
    "Si deseamos usar SymPy de forma interactiva usamos\n",
    "\n",
    "```python\n",
    "from sympy import *\n",
    "init_printing()\n",
    "```\n",
    "\n",
    "Para scripting es mejor importar la biblioteca de la siguiente manera\n",
    "\n",
    "```python\n",
    "import sympy as sym\n",
    "```\n",
    "\n",
    "Y llamar las funciones de la siguiente manera\n",
    "\n",
    "```python\n",
    "x = sym.Symbols(\"x\")\n",
    "expr = sym.cos(x)**2 + 3*x\n",
    "deriv = expr.diff(x)\n",
    "```\n",
    "\n",
    "en donde calculamos la derivada de  $\\cos^2(x) + 3x$,\n",
    "que debe ser $-2\\sin(x)\\cos(x) + 3$."
   ]
  },
  {
   "cell_type": "code",
   "execution_count": null,
   "metadata": {},
   "outputs": [],
   "source": [
    "%matplotlib notebook"
   ]
  },
  {
   "cell_type": "code",
   "execution_count": 1,
   "metadata": {},
   "outputs": [],
   "source": [
    "import numpy as np\n",
    "import matplotlib.pyplot as plt\n",
    "from sympy import *"
   ]
  },
  {
   "cell_type": "code",
   "execution_count": 2,
   "metadata": {},
   "outputs": [],
   "source": [
    "init_printing()"
   ]
  },
  {
   "cell_type": "markdown",
   "metadata": {},
   "source": [
    "Definamos la variable $x$ como un símbolo matemático. Esto nos permite hacer uso de\n",
    "esta variable en SymPy."
   ]
  },
  {
   "cell_type": "code",
   "execution_count": 3,
   "metadata": {},
   "outputs": [],
   "source": [
    "x = symbols(\"x\")"
   ]
  },
  {
   "cell_type": "markdown",
   "metadata": {},
   "source": [
    "Empecemos con cálculos simples. Abajo, tenemos una _celda de código_ con una suma.\n",
    "Ubica el cursor en ella y presiona SHIFT + ENTER para evaluarla.\n"
   ]
  },
  {
   "cell_type": "code",
   "execution_count": 4,
   "metadata": {},
   "outputs": [
    {
     "data": {
      "image/png": "[encoded data removed]",
      "text/latex": [
       "$\\displaystyle 4$"
      ],
      "text/plain": [
       "4"
      ]
     },
     "execution_count": 4,
     "metadata": {},
     "output_type": "execute_result"
    }
   ],
   "source": [
    "1 + 3"
   ]
  },
  {
   "cell_type": "markdown",
   "metadata": {},
   "source": [
    "Realicemos algunos cálculos."
   ]
  },
  {
   "cell_type": "code",
   "execution_count": 5,
   "metadata": {},
   "outputs": [
    {
     "data": {
      "image/png": "[encoded data removed]",
      "text/latex": [
       "$\\displaystyle 120$"
      ],
      "text/plain": [
       "120"
      ]
     },
     "execution_count": 5,
     "metadata": {},
     "output_type": "execute_result"
    }
   ],
   "source": [
    "factorial(5)"
   ]
  },
  {
   "cell_type": "code",
   "execution_count": 6,
   "metadata": {},
   "outputs": [
    {
     "data": {
      "image/png": "[encoded data removed]",
      "text/latex": [
       "$\\displaystyle 0$"
      ],
      "text/plain": [
       "0"
      ]
     },
     "execution_count": 6,
     "metadata": {},
     "output_type": "execute_result"
    }
   ],
   "source": [
    "1 // 3"
   ]
  },
  {
   "cell_type": "code",
   "execution_count": 7,
   "metadata": {},
   "outputs": [
    {
     "data": {
      "image/png": "[encoded data removed]",
      "text/latex": [
       "$\\displaystyle 0.333333333333333$"
      ],
      "text/plain": [
       "0.3333333333333333"
      ]
     },
     "execution_count": 7,
     "metadata": {},
     "output_type": "execute_result"
    }
   ],
   "source": [
    "1 / 3"
   ]
  },
  {
   "cell_type": "code",
   "execution_count": 8,
   "metadata": {},
   "outputs": [
    {
     "data": {
      "image/png": "[encoded data removed]",
      "text/latex": [
       "$\\displaystyle \\frac{1}{3}$"
      ],
      "text/plain": [
       "1/3"
      ]
     },
     "execution_count": 8,
     "metadata": {},
     "output_type": "execute_result"
    }
   ],
   "source": [
    "S(1) / 3"
   ]
  },
  {
   "cell_type": "markdown",
   "metadata": {},
   "source": [
    "Podemos evaluar esta expresión a su versión en punto flotante"
   ]
  },
  {
   "cell_type": "code",
   "execution_count": 9,
   "metadata": {},
   "outputs": [
    {
     "data": {
      "image/png": "[encoded data removed]",
      "text/latex": [
       "$\\displaystyle \\sqrt{2} \\sqrt{\\pi}$"
      ],
      "text/plain": [
       "√2⋅√π"
      ]
     },
     "execution_count": 9,
     "metadata": {},
     "output_type": "execute_result"
    }
   ],
   "source": [
    "sqrt(2*pi)"
   ]
  },
  {
   "cell_type": "code",
   "execution_count": 10,
   "metadata": {},
   "outputs": [
    {
     "data": {
      "image/png": "[encoded data removed]",
      "text/latex": [
       "$\\displaystyle 2.506628274631$"
      ],
      "text/plain": [
       "2.5066282746310007"
      ]
     },
     "execution_count": 10,
     "metadata": {},
     "output_type": "execute_result"
    }
   ],
   "source": [
    "float(sqrt(2*pi))"
   ]
  },
  {
   "cell_type": "markdown",
   "metadata": {},
   "source": [
    "También podemos almacenar expresiones como variables, como cualquier variable de Python.\n"
   ]
  },
  {
   "cell_type": "code",
   "execution_count": 11,
   "metadata": {},
   "outputs": [],
   "source": [
    "radius = 10\n",
    "height = 100\n",
    "area = pi * radius**2\n",
    "volume = area * height"
   ]
  },
  {
   "cell_type": "code",
   "execution_count": 12,
   "metadata": {},
   "outputs": [
    {
     "data": {
      "image/png": "[encoded data removed]",
      "text/latex": [
       "$\\displaystyle 10000 \\pi$"
      ],
      "text/plain": [
       "10000⋅π"
      ]
     },
     "execution_count": 12,
     "metadata": {},
     "output_type": "execute_result"
    }
   ],
   "source": [
    "volume"
   ]
  },
  {
   "cell_type": "code",
   "execution_count": 13,
   "metadata": {},
   "outputs": [
    {
     "data": {
      "image/png": "[encoded data removed]",
      "text/latex": [
       "$\\displaystyle 31415.9265358979$"
      ],
      "text/plain": [
       "31415.926535897932"
      ]
     },
     "execution_count": 13,
     "metadata": {},
     "output_type": "execute_result"
    }
   ],
   "source": [
    "float(volume)"
   ]
  },
  {
   "cell_type": "markdown",
   "metadata": {},
   "source": [
    "Hasta ahora, hemos usado SymPy como una calculadora. Intentemos\n",
    "algunos cálculos más avanzados. Por ejemplo, algunas integrales.\n"
   ]
  },
  {
   "cell_type": "code",
   "execution_count": 14,
   "metadata": {},
   "outputs": [
    {
     "data": {
      "image/png": "[encoded data removed]",
      "text/latex": [
       "$\\displaystyle - \\cos{\\left(x \\right)}$"
      ],
      "text/plain": [
       "-cos(x)"
      ]
     },
     "execution_count": 14,
     "metadata": {},
     "output_type": "execute_result"
    }
   ],
   "source": [
    "integrate(sin(x), x)"
   ]
  },
  {
   "cell_type": "code",
   "execution_count": 15,
   "metadata": {},
   "outputs": [
    {
     "data": {
      "image/png": "[encoded data removed]",
      "text/latex": [
       "$\\displaystyle 2$"
      ],
      "text/plain": [
       "2"
      ]
     },
     "execution_count": 15,
     "metadata": {},
     "output_type": "execute_result"
    }
   ],
   "source": [
    "integrate(sin(x), (x, 0, pi))"
   ]
  },
  {
   "cell_type": "markdown",
   "metadata": {},
   "source": [
    "Podemos definir una función, e integrarla"
   ]
  },
  {
   "cell_type": "code",
   "execution_count": 16,
   "metadata": {},
   "outputs": [],
   "source": [
    "f = lambda x: x**2 + 5"
   ]
  },
  {
   "cell_type": "code",
   "execution_count": 17,
   "metadata": {
    "scrolled": true
   },
   "outputs": [
    {
     "data": {
      "image/png": "[encoded data removed]",
      "text/latex": [
       "$\\displaystyle 30$"
      ],
      "text/plain": [
       "30"
      ]
     },
     "execution_count": 17,
     "metadata": {},
     "output_type": "execute_result"
    }
   ],
   "source": [
    "f(5)"
   ]
  },
  {
   "cell_type": "code",
   "execution_count": 18,
   "metadata": {},
   "outputs": [
    {
     "data": {
      "image/png": "[encoded data removed]",
      "text/latex": [
       "$\\displaystyle \\frac{x^{3}}{3} + 5 x$"
      ],
      "text/plain": [
       " 3      \n",
       "x       \n",
       "── + 5⋅x\n",
       "3       "
      ]
     },
     "execution_count": 18,
     "metadata": {},
     "output_type": "execute_result"
    }
   ],
   "source": [
    "integrate(f(x), x)"
   ]
  },
  {
   "cell_type": "code",
   "execution_count": 19,
   "metadata": {},
   "outputs": [
    {
     "data": {
      "image/png": "[encoded data removed]",
      "text/latex": [
       "$\\displaystyle - \\frac{\\sqrt{- \\frac{1}{y}} \\log{\\left(x - y \\sqrt{- \\frac{1}{y}} \\right)}}{2} + \\frac{\\sqrt{- \\frac{1}{y}} \\log{\\left(x + y \\sqrt{- \\frac{1}{y}} \\right)}}{2}$"
      ],
      "text/plain": [
       "      _____    ⎛          _____⎞       _____    ⎛          _____⎞\n",
       "     ╱ -1      ⎜         ╱ -1  ⎟      ╱ -1      ⎜         ╱ -1  ⎟\n",
       "    ╱  ─── ⋅log⎜x - y⋅  ╱  ─── ⎟     ╱  ─── ⋅log⎜x + y⋅  ╱  ─── ⎟\n",
       "  ╲╱    y      ⎝      ╲╱    y  ⎠   ╲╱    y      ⎝      ╲╱    y  ⎠\n",
       "- ────────────────────────────── + ──────────────────────────────\n",
       "                2                                2               "
      ]
     },
     "execution_count": 19,
     "metadata": {},
     "output_type": "execute_result"
    }
   ],
   "source": [
    "y = symbols(\"y\")\n",
    "integrate(1/(x**2 + y), x)"
   ]
  },
  {
   "cell_type": "markdown",
   "metadata": {},
   "source": [
    "Si asumimos que el denominador es positivo, esta expresión se puede simplificar aún más"
   ]
  },
  {
   "cell_type": "code",
   "execution_count": 20,
   "metadata": {},
   "outputs": [
    {
     "data": {
      "image/png": "[encoded data removed]",
      "text/latex": [
       "$\\displaystyle \\frac{\\operatorname{atan}{\\left(\\frac{x}{\\sqrt{a}} \\right)}}{\\sqrt{a}}$"
      ],
      "text/plain": [
       "    ⎛x ⎞\n",
       "atan⎜──⎟\n",
       "    ⎝√a⎠\n",
       "────────\n",
       "   √a   "
      ]
     },
     "execution_count": 20,
     "metadata": {},
     "output_type": "execute_result"
    }
   ],
   "source": [
    "a = symbols(\"a\", positive=True)\n",
    "integrate(1/(x**2 + a), x)"
   ]
  },
  {
   "cell_type": "markdown",
   "metadata": {},
   "source": [
    "Hasta ahora, aprendimos lo más básico. Intentemos algunos ejemplos\n",
    "más complicados ahora.\n",
    "\n",
    "**Nota:** Si quieres saber más sobre una función específica se puede usar\n",
    "la función ``help()`` o el comándo _mágico_ de IPython ``??``"
   ]
  },
  {
   "cell_type": "code",
   "execution_count": 21,
   "metadata": {},
   "outputs": [
    {
     "name": "stdout",
     "output_type": "stream",
     "text": [
      "Help on function integrate in module sympy.integrals.integrals:\n",
      "\n",
      "integrate(*args, meijerg=None, conds='piecewise', risch=None, heurisch=None, manual=None, **kwargs)\n",
      "    integrate(f, var, ...)\n",
      "    \n",
      "    .. deprecated:: 1.6\n",
      "    \n",
      "       Using ``integrate()`` with :class:`~.Poly` is deprecated. Use\n",
      "       :meth:`.Poly.integrate` instead. See :ref:`deprecated-integrate-poly`.\n",
      "    \n",
      "    Explanation\n",
      "    ===========\n",
      "    \n",
      "    Compute definite or indefinite integral of one or more variables\n",
      "    using Risch-Norman algorithm and table lookup. This procedure is\n",
      "    able to handle elementary algebraic and transcendental functions\n",
      "    and also a huge class of special functions, including Airy,\n",
      "    Bessel, Whittaker and Lambert.\n",
      "    \n",
      "    var can be:\n",
      "    \n",
      "    - a symbol                   -- indefinite integration\n",
      "    - a tuple (symbol, a)        -- indefinite integration with result\n",
      "                                    given with ``a`` replacing ``symbol``\n",
      "    - a tuple (symbol, a, b)     -- definite integration\n",
      "    \n",
      "    Several variables can be specified, in which case the result is\n",
      "    multiple integration. (If var is omitted and the integrand is\n",
      "    univariate, the indefinite integral in that variable will be performed.)\n",
      "    \n",
      "    Indefinite integrals are returned without terms that are independent\n",
      "    of the integration variables. (see examples)\n",
      "    \n",
      "    Definite improper integrals often entail delicate convergence\n",
      "    conditions. Pass conds='piecewise', 'separate' or 'none' to have\n",
      "    these returned, respectively, as a Piecewise function, as a separate\n",
      "    result (i.e. result will be a tuple), or not at all (default is\n",
      "    'piecewise').\n",
      "    \n",
      "    **Strategy**\n",
      "    \n",
      "    SymPy uses various approaches to definite integration. One method is to\n",
      "    find an antiderivative for the integrand, and then use the fundamental\n",
      "    theorem of calculus. Various functions are implemented to integrate\n",
      "    polynomial, rational and trigonometric functions, and integrands\n",
      "    containing DiracDelta terms.\n",
      "    \n",
      "    SymPy also implements the part of the Risch algorithm, which is a decision\n",
      "    procedure for integrating elementary functions, i.e., the algorithm can\n",
      "    either find an elementary antiderivative, or prove that one does not\n",
      "    exist.  There is also a (very successful, albeit somewhat slow) general\n",
      "    implementation of the heuristic Risch algorithm.  This algorithm will\n",
      "    eventually be phased out as more of the full Risch algorithm is\n",
      "    implemented. See the docstring of Integral._eval_integral() for more\n",
      "    details on computing the antiderivative using algebraic methods.\n",
      "    \n",
      "    The option risch=True can be used to use only the (full) Risch algorithm.\n",
      "    This is useful if you want to know if an elementary function has an\n",
      "    elementary antiderivative.  If the indefinite Integral returned by this\n",
      "    function is an instance of NonElementaryIntegral, that means that the\n",
      "    Risch algorithm has proven that integral to be non-elementary.  Note that\n",
      "    by default, additional methods (such as the Meijer G method outlined\n",
      "    below) are tried on these integrals, as they may be expressible in terms\n",
      "    of special functions, so if you only care about elementary answers, use\n",
      "    risch=True.  Also note that an unevaluated Integral returned by this\n",
      "    function is not necessarily a NonElementaryIntegral, even with risch=True,\n",
      "    as it may just be an indication that the particular part of the Risch\n",
      "    algorithm needed to integrate that function is not yet implemented.\n",
      "    \n",
      "    Another family of strategies comes from re-writing the integrand in\n",
      "    terms of so-called Meijer G-functions. Indefinite integrals of a\n",
      "    single G-function can always be computed, and the definite integral\n",
      "    of a product of two G-functions can be computed from zero to\n",
      "    infinity. Various strategies are implemented to rewrite integrands\n",
      "    as G-functions, and use this information to compute integrals (see\n",
      "    the ``meijerint`` module).\n",
      "    \n",
      "    The option manual=True can be used to use only an algorithm that tries\n",
      "    to mimic integration by hand. This algorithm does not handle as many\n",
      "    integrands as the other algorithms implemented but may return results in\n",
      "    a more familiar form. The ``manualintegrate`` module has functions that\n",
      "    return the steps used (see the module docstring for more information).\n",
      "    \n",
      "    In general, the algebraic methods work best for computing\n",
      "    antiderivatives of (possibly complicated) combinations of elementary\n",
      "    functions. The G-function methods work best for computing definite\n",
      "    integrals from zero to infinity of moderately complicated\n",
      "    combinations of special functions, or indefinite integrals of very\n",
      "    simple combinations of special functions.\n",
      "    \n",
      "    The strategy employed by the integration code is as follows:\n",
      "    \n",
      "    - If computing a definite integral, and both limits are real,\n",
      "      and at least one limit is +- oo, try the G-function method of\n",
      "      definite integration first.\n",
      "    \n",
      "    - Try to find an antiderivative, using all available methods, ordered\n",
      "      by performance (that is try fastest method first, slowest last; in\n",
      "      particular polynomial integration is tried first, Meijer\n",
      "      G-functions second to last, and heuristic Risch last).\n",
      "    \n",
      "    - If still not successful, try G-functions irrespective of the\n",
      "      limits.\n",
      "    \n",
      "    The option meijerg=True, False, None can be used to, respectively:\n",
      "    always use G-function methods and no others, never use G-function\n",
      "    methods, or use all available methods (in order as described above).\n",
      "    It defaults to None.\n",
      "    \n",
      "    Examples\n",
      "    ========\n",
      "    \n",
      "    >>> from sympy import integrate, log, exp, oo\n",
      "    >>> from sympy.abc import a, x, y\n",
      "    \n",
      "    >>> integrate(x*y, x)\n",
      "    x**2*y/2\n",
      "    \n",
      "    >>> integrate(log(x), x)\n",
      "    x*log(x) - x\n",
      "    \n",
      "    >>> integrate(log(x), (x, 1, a))\n",
      "    a*log(a) - a + 1\n",
      "    \n",
      "    >>> integrate(x)\n",
      "    x**2/2\n",
      "    \n",
      "    Terms that are independent of x are dropped by indefinite integration:\n",
      "    \n",
      "    >>> from sympy import sqrt\n",
      "    >>> integrate(sqrt(1 + x), (x, 0, x))\n",
      "    2*(x + 1)**(3/2)/3 - 2/3\n",
      "    >>> integrate(sqrt(1 + x), x)\n",
      "    2*(x + 1)**(3/2)/3\n",
      "    \n",
      "    >>> integrate(x*y)\n",
      "    Traceback (most recent call last):\n",
      "    ...\n",
      "    ValueError: specify integration variables to integrate x*y\n",
      "    \n",
      "    Note that ``integrate(x)`` syntax is meant only for convenience\n",
      "    in interactive sessions and should be avoided in library code.\n",
      "    \n",
      "    >>> integrate(x**a*exp(-x), (x, 0, oo)) # same as conds='piecewise'\n",
      "    Piecewise((gamma(a + 1), re(a) > -1),\n",
      "        (Integral(x**a*exp(-x), (x, 0, oo)), True))\n",
      "    \n",
      "    >>> integrate(x**a*exp(-x), (x, 0, oo), conds='none')\n",
      "    gamma(a + 1)\n",
      "    \n",
      "    >>> integrate(x**a*exp(-x), (x, 0, oo), conds='separate')\n",
      "    (gamma(a + 1), re(a) > -1)\n",
      "    \n",
      "    See Also\n",
      "    ========\n",
      "    \n",
      "    Integral, Integral.doit\n",
      "\n"
     ]
    }
   ],
   "source": [
    "help(integrate)"
   ]
  },
  {
   "cell_type": "code",
   "execution_count": 22,
   "metadata": {},
   "outputs": [
    {
     "data": {
      "text/plain": [
       "\u001b[1;31mSignature:\u001b[0m\n",
       "\u001b[0mintegrate\u001b[0m\u001b[1;33m(\u001b[0m\u001b[1;33m\n",
       "\u001b[0m    \u001b[1;33m*\u001b[0m\u001b[0margs\u001b[0m\u001b[1;33m,\u001b[0m\u001b[1;33m\n",
       "\u001b[0m    \u001b[0mmeijerg\u001b[0m\u001b[1;33m=\u001b[0m\u001b[1;32mNone\u001b[0m\u001b[1;33m,\u001b[0m\u001b[1;33m\n",
       "\u001b[0m    \u001b[0mconds\u001b[0m\u001b[1;33m=\u001b[0m\u001b[1;34m'piecewise'\u001b[0m\u001b[1;33m,\u001b[0m\u001b[1;33m\n",
       "\u001b[0m    \u001b[0mrisch\u001b[0m\u001b[1;33m=\u001b[0m\u001b[1;32mNone\u001b[0m\u001b[1;33m,\u001b[0m\u001b[1;33m\n",
       "\u001b[0m    \u001b[0mheurisch\u001b[0m\u001b[1;33m=\u001b[0m\u001b[1;32mNone\u001b[0m\u001b[1;33m,\u001b[0m\u001b[1;33m\n",
       "\u001b[0m    \u001b[0mmanual\u001b[0m\u001b[1;33m=\u001b[0m\u001b[1;32mNone\u001b[0m\u001b[1;33m,\u001b[0m\u001b[1;33m\n",
       "\u001b[0m    \u001b[1;33m**\u001b[0m\u001b[0mkwargs\u001b[0m\u001b[1;33m,\u001b[0m\u001b[1;33m\n",
       "\u001b[0m\u001b[1;33m)\u001b[0m\u001b[1;33m\u001b[0m\u001b[1;33m\u001b[0m\u001b[0m\n",
       "\u001b[1;31mSource:\u001b[0m   \n",
       "\u001b[1;32mdef\u001b[0m \u001b[0mintegrate\u001b[0m\u001b[1;33m(\u001b[0m\u001b[1;33m*\u001b[0m\u001b[0margs\u001b[0m\u001b[1;33m,\u001b[0m \u001b[0mmeijerg\u001b[0m\u001b[1;33m=\u001b[0m\u001b[1;32mNone\u001b[0m\u001b[1;33m,\u001b[0m \u001b[0mconds\u001b[0m\u001b[1;33m=\u001b[0m\u001b[1;34m'piecewise'\u001b[0m\u001b[1;33m,\u001b[0m \u001b[0mrisch\u001b[0m\u001b[1;33m=\u001b[0m\u001b[1;32mNone\u001b[0m\u001b[1;33m,\u001b[0m \u001b[0mheurisch\u001b[0m\u001b[1;33m=\u001b[0m\u001b[1;32mNone\u001b[0m\u001b[1;33m,\u001b[0m \u001b[0mmanual\u001b[0m\u001b[1;33m=\u001b[0m\u001b[1;32mNone\u001b[0m\u001b[1;33m,\u001b[0m \u001b[1;33m**\u001b[0m\u001b[0mkwargs\u001b[0m\u001b[1;33m)\u001b[0m\u001b[1;33m:\u001b[0m\u001b[1;33m\n",
       "\u001b[0m    \u001b[1;34m\"\"\"integrate(f, var, ...)\n",
       "\n",
       "    .. deprecated:: 1.6\n",
       "\n",
       "       Using ``integrate()`` with :class:`~.Poly` is deprecated. Use\n",
       "       :meth:`.Poly.integrate` instead. See :ref:`deprecated-integrate-poly`.\n",
       "\n",
       "    Explanation\n",
       "    ===========\n",
       "\n",
       "    Compute definite or indefinite integral of one or more variables\n",
       "    using Risch-Norman algorithm and table lookup. This procedure is\n",
       "    able to handle elementary algebraic and transcendental functions\n",
       "    and also a huge class of special functions, including Airy,\n",
       "    Bessel, Whittaker and Lambert.\n",
       "\n",
       "    var can be:\n",
       "\n",
       "    - a symbol                   -- indefinite integration\n",
       "    - a tuple (symbol, a)        -- indefinite integration with result\n",
       "                                    given with ``a`` replacing ``symbol``\n",
       "    - a tuple (symbol, a, b)     -- definite integration\n",
       "\n",
       "    Several variables can be specified, in which case the result is\n",
       "    multiple integration. (If var is omitted and the integrand is\n",
       "    univariate, the indefinite integral in that variable will be performed.)\n",
       "\n",
       "    Indefinite integrals are returned without terms that are independent\n",
       "    of the integration variables. (see examples)\n",
       "\n",
       "    Definite improper integrals often entail delicate convergence\n",
       "    conditions. Pass conds='piecewise', 'separate' or 'none' to have\n",
       "    these returned, respectively, as a Piecewise function, as a separate\n",
       "    result (i.e. result will be a tuple), or not at all (default is\n",
       "    'piecewise').\n",
       "\n",
       "    **Strategy**\n",
       "\n",
       "    SymPy uses various approaches to definite integration. One method is to\n",
       "    find an antiderivative for the integrand, and then use the fundamental\n",
       "    theorem of calculus. Various functions are implemented to integrate\n",
       "    polynomial, rational and trigonometric functions, and integrands\n",
       "    containing DiracDelta terms.\n",
       "\n",
       "    SymPy also implements the part of the Risch algorithm, which is a decision\n",
       "    procedure for integrating elementary functions, i.e., the algorithm can\n",
       "    either find an elementary antiderivative, or prove that one does not\n",
       "    exist.  There is also a (very successful, albeit somewhat slow) general\n",
       "    implementation of the heuristic Risch algorithm.  This algorithm will\n",
       "    eventually be phased out as more of the full Risch algorithm is\n",
       "    implemented. See the docstring of Integral._eval_integral() for more\n",
       "    details on computing the antiderivative using algebraic methods.\n",
       "\n",
       "    The option risch=True can be used to use only the (full) Risch algorithm.\n",
       "    This is useful if you want to know if an elementary function has an\n",
       "    elementary antiderivative.  If the indefinite Integral returned by this\n",
       "    function is an instance of NonElementaryIntegral, that means that the\n",
       "    Risch algorithm has proven that integral to be non-elementary.  Note that\n",
       "    by default, additional methods (such as the Meijer G method outlined\n",
       "    below) are tried on these integrals, as they may be expressible in terms\n",
       "    of special functions, so if you only care about elementary answers, use\n",
       "    risch=True.  Also note that an unevaluated Integral returned by this\n",
       "    function is not necessarily a NonElementaryIntegral, even with risch=True,\n",
       "    as it may just be an indication that the particular part of the Risch\n",
       "    algorithm needed to integrate that function is not yet implemented.\n",
       "\n",
       "    Another family of strategies comes from re-writing the integrand in\n",
       "    terms of so-called Meijer G-functions. Indefinite integrals of a\n",
       "    single G-function can always be computed, and the definite integral\n",
       "    of a product of two G-functions can be computed from zero to\n",
       "    infinity. Various strategies are implemented to rewrite integrands\n",
       "    as G-functions, and use this information to compute integrals (see\n",
       "    the ``meijerint`` module).\n",
       "\n",
       "    The option manual=True can be used to use only an algorithm that tries\n",
       "    to mimic integration by hand. This algorithm does not handle as many\n",
       "    integrands as the other algorithms implemented but may return results in\n",
       "    a more familiar form. The ``manualintegrate`` module has functions that\n",
       "    return the steps used (see the module docstring for more information).\n",
       "\n",
       "    In general, the algebraic methods work best for computing\n",
       "    antiderivatives of (possibly complicated) combinations of elementary\n",
       "    functions. The G-function methods work best for computing definite\n",
       "    integrals from zero to infinity of moderately complicated\n",
       "    combinations of special functions, or indefinite integrals of very\n",
       "    simple combinations of special functions.\n",
       "\n",
       "    The strategy employed by the integration code is as follows:\n",
       "\n",
       "    - If computing a definite integral, and both limits are real,\n",
       "      and at least one limit is +- oo, try the G-function method of\n",
       "      definite integration first.\n",
       "\n",
       "    - Try to find an antiderivative, using all available methods, ordered\n",
       "      by performance (that is try fastest method first, slowest last; in\n",
       "      particular polynomial integration is tried first, Meijer\n",
       "      G-functions second to last, and heuristic Risch last).\n",
       "\n",
       "    - If still not successful, try G-functions irrespective of the\n",
       "      limits.\n",
       "\n",
       "    The option meijerg=True, False, None can be used to, respectively:\n",
       "    always use G-function methods and no others, never use G-function\n",
       "    methods, or use all available methods (in order as described above).\n",
       "    It defaults to None.\n",
       "\n",
       "    Examples\n",
       "    ========\n",
       "\n",
       "    >>> from sympy import integrate, log, exp, oo\n",
       "    >>> from sympy.abc import a, x, y\n",
       "\n",
       "    >>> integrate(x*y, x)\n",
       "    x**2*y/2\n",
       "\n",
       "    >>> integrate(log(x), x)\n",
       "    x*log(x) - x\n",
       "\n",
       "    >>> integrate(log(x), (x, 1, a))\n",
       "    a*log(a) - a + 1\n",
       "\n",
       "    >>> integrate(x)\n",
       "    x**2/2\n",
       "\n",
       "    Terms that are independent of x are dropped by indefinite integration:\n",
       "\n",
       "    >>> from sympy import sqrt\n",
       "    >>> integrate(sqrt(1 + x), (x, 0, x))\n",
       "    2*(x + 1)**(3/2)/3 - 2/3\n",
       "    >>> integrate(sqrt(1 + x), x)\n",
       "    2*(x + 1)**(3/2)/3\n",
       "\n",
       "    >>> integrate(x*y)\n",
       "    Traceback (most recent call last):\n",
       "    ...\n",
       "    ValueError: specify integration variables to integrate x*y\n",
       "\n",
       "    Note that ``integrate(x)`` syntax is meant only for convenience\n",
       "    in interactive sessions and should be avoided in library code.\n",
       "\n",
       "    >>> integrate(x**a*exp(-x), (x, 0, oo)) # same as conds='piecewise'\n",
       "    Piecewise((gamma(a + 1), re(a) > -1),\n",
       "        (Integral(x**a*exp(-x), (x, 0, oo)), True))\n",
       "\n",
       "    >>> integrate(x**a*exp(-x), (x, 0, oo), conds='none')\n",
       "    gamma(a + 1)\n",
       "\n",
       "    >>> integrate(x**a*exp(-x), (x, 0, oo), conds='separate')\n",
       "    (gamma(a + 1), re(a) > -1)\n",
       "\n",
       "    See Also\n",
       "    ========\n",
       "\n",
       "    Integral, Integral.doit\n",
       "\n",
       "    \"\"\"\u001b[0m\u001b[1;33m\n",
       "\u001b[0m    \u001b[0mdoit_flags\u001b[0m \u001b[1;33m=\u001b[0m \u001b[1;33m{\u001b[0m\u001b[1;33m\n",
       "\u001b[0m        \u001b[1;34m'deep'\u001b[0m\u001b[1;33m:\u001b[0m \u001b[1;32mFalse\u001b[0m\u001b[1;33m,\u001b[0m\u001b[1;33m\n",
       "\u001b[0m        \u001b[1;34m'meijerg'\u001b[0m\u001b[1;33m:\u001b[0m \u001b[0mmeijerg\u001b[0m\u001b[1;33m,\u001b[0m\u001b[1;33m\n",
       "\u001b[0m        \u001b[1;34m'conds'\u001b[0m\u001b[1;33m:\u001b[0m \u001b[0mconds\u001b[0m\u001b[1;33m,\u001b[0m\u001b[1;33m\n",
       "\u001b[0m        \u001b[1;34m'risch'\u001b[0m\u001b[1;33m:\u001b[0m \u001b[0mrisch\u001b[0m\u001b[1;33m,\u001b[0m\u001b[1;33m\n",
       "\u001b[0m        \u001b[1;34m'heurisch'\u001b[0m\u001b[1;33m:\u001b[0m \u001b[0mheurisch\u001b[0m\u001b[1;33m,\u001b[0m\u001b[1;33m\n",
       "\u001b[0m        \u001b[1;34m'manual'\u001b[0m\u001b[1;33m:\u001b[0m \u001b[0mmanual\u001b[0m\u001b[1;33m\n",
       "\u001b[0m        \u001b[1;33m}\u001b[0m\u001b[1;33m\n",
       "\u001b[0m    \u001b[0mintegral\u001b[0m \u001b[1;33m=\u001b[0m \u001b[0mIntegral\u001b[0m\u001b[1;33m(\u001b[0m\u001b[1;33m*\u001b[0m\u001b[0margs\u001b[0m\u001b[1;33m,\u001b[0m \u001b[1;33m**\u001b[0m\u001b[0mkwargs\u001b[0m\u001b[1;33m)\u001b[0m\u001b[1;33m\n",
       "\u001b[0m\u001b[1;33m\n",
       "\u001b[0m    \u001b[1;32mif\u001b[0m \u001b[0misinstance\u001b[0m\u001b[1;33m(\u001b[0m\u001b[0mintegral\u001b[0m\u001b[1;33m,\u001b[0m \u001b[0mIntegral\u001b[0m\u001b[1;33m)\u001b[0m\u001b[1;33m:\u001b[0m\u001b[1;33m\n",
       "\u001b[0m        \u001b[1;32mreturn\u001b[0m \u001b[0mintegral\u001b[0m\u001b[1;33m.\u001b[0m\u001b[0mdoit\u001b[0m\u001b[1;33m(\u001b[0m\u001b[1;33m**\u001b[0m\u001b[0mdoit_flags\u001b[0m\u001b[1;33m)\u001b[0m\u001b[1;33m\n",
       "\u001b[0m    \u001b[1;32melse\u001b[0m\u001b[1;33m:\u001b[0m\u001b[1;33m\n",
       "\u001b[0m        \u001b[0mnew_args\u001b[0m \u001b[1;33m=\u001b[0m \u001b[1;33m[\u001b[0m\u001b[0ma\u001b[0m\u001b[1;33m.\u001b[0m\u001b[0mdoit\u001b[0m\u001b[1;33m(\u001b[0m\u001b[1;33m**\u001b[0m\u001b[0mdoit_flags\u001b[0m\u001b[1;33m)\u001b[0m \u001b[1;32mif\u001b[0m \u001b[0misinstance\u001b[0m\u001b[1;33m(\u001b[0m\u001b[0ma\u001b[0m\u001b[1;33m,\u001b[0m \u001b[0mIntegral\u001b[0m\u001b[1;33m)\u001b[0m \u001b[1;32melse\u001b[0m \u001b[0ma\u001b[0m\u001b[1;33m\n",
       "\u001b[0m            \u001b[1;32mfor\u001b[0m \u001b[0ma\u001b[0m \u001b[1;32min\u001b[0m \u001b[0mintegral\u001b[0m\u001b[1;33m.\u001b[0m\u001b[0margs\u001b[0m\u001b[1;33m]\u001b[0m\u001b[1;33m\n",
       "\u001b[0m        \u001b[1;32mreturn\u001b[0m \u001b[0mintegral\u001b[0m\u001b[1;33m.\u001b[0m\u001b[0mfunc\u001b[0m\u001b[1;33m(\u001b[0m\u001b[1;33m*\u001b[0m\u001b[0mnew_args\u001b[0m\u001b[1;33m)\u001b[0m\u001b[1;33m\u001b[0m\u001b[1;33m\u001b[0m\u001b[0m\n",
       "\u001b[1;31mFile:\u001b[0m      c:\\users\\nicoguaro\\miniconda3\\lib\\site-packages\\sympy\\integrals\\integrals.py\n",
       "\u001b[1;31mType:\u001b[0m      function"
      ]
     },
     "metadata": {},
     "output_type": "display_data"
    }
   ],
   "source": [
    "integrate??"
   ]
  },
  {
   "cell_type": "markdown",
   "metadata": {},
   "source": [
    "## Ejemplos"
   ]
  },
  {
   "cell_type": "markdown",
   "metadata": {},
   "source": [
    "### Solución de ecuaciones algebraicas\n",
    "\n",
    "Para resolver sistemas de ecuaciones algebraicos podemos usar: \n",
    "[``solveset`` and ``solve``](http://docs.sympy.org/latest/tutorial/solvers.html).\n",
    "El método preferido es ``solveset``, sin embargo, hay sistemas que\n",
    "se pueden resolver usando ``solve`` y no ``solveset``.\n",
    "\n",
    "Para resolver sistemas usando ``solveset``:"
   ]
  },
  {
   "cell_type": "code",
   "execution_count": 23,
   "metadata": {},
   "outputs": [
    {
     "data": {
      "image/png": "[encoded data removed]",
      "text/latex": [
       "$\\displaystyle \\left\\{- \\frac{b}{2 a} - \\frac{\\sqrt{- 4 a c + b^{2}}}{2 a}, - \\frac{b}{2 a} + \\frac{\\sqrt{- 4 a c + b^{2}}}{2 a}\\right\\}$"
      ],
      "text/plain": [
       "⎧           _____________             _____________⎫\n",
       "⎪          ╱           2             ╱           2 ⎪\n",
       "⎨   b    ╲╱  -4⋅a⋅c + b       b    ╲╱  -4⋅a⋅c + b  ⎬\n",
       "⎪- ─── - ────────────────, - ─── + ────────────────⎪\n",
       "⎩  2⋅a         2⋅a           2⋅a         2⋅a       ⎭"
      ]
     },
     "execution_count": 23,
     "metadata": {},
     "output_type": "execute_result"
    }
   ],
   "source": [
    "a, b, c = symbols(\"a b c\")\n",
    "solveset(a*x**2 + b*x + c, x)"
   ]
  },
  {
   "cell_type": "markdown",
   "metadata": {},
   "source": [
    "Debemos ingresar la expresión igualada a 0, o como una ecuación"
   ]
  },
  {
   "cell_type": "code",
   "execution_count": 24,
   "metadata": {},
   "outputs": [
    {
     "data": {
      "image/png": "[encoded data removed]",
      "text/latex": [
       "$\\displaystyle \\left\\{- \\frac{b}{2 a} - \\frac{\\sqrt{- 4 a c + b^{2}}}{2 a}, - \\frac{b}{2 a} + \\frac{\\sqrt{- 4 a c + b^{2}}}{2 a}\\right\\}$"
      ],
      "text/plain": [
       "⎧           _____________             _____________⎫\n",
       "⎪          ╱           2             ╱           2 ⎪\n",
       "⎨   b    ╲╱  -4⋅a⋅c + b       b    ╲╱  -4⋅a⋅c + b  ⎬\n",
       "⎪- ─── - ────────────────, - ─── + ────────────────⎪\n",
       "⎩  2⋅a         2⋅a           2⋅a         2⋅a       ⎭"
      ]
     },
     "execution_count": 24,
     "metadata": {},
     "output_type": "execute_result"
    }
   ],
   "source": [
    "solveset(Eq(a*x**2 + b*x, -c), x)"
   ]
  },
  {
   "cell_type": "markdown",
   "metadata": {},
   "source": [
    "``solveset`` no permite resolver sistemas de ecuaciones no lineales, por ejemplo\n"
   ]
  },
  {
   "cell_type": "code",
   "execution_count": 25,
   "metadata": {},
   "outputs": [
    {
     "data": {
      "image/png": "[encoded data removed]",
      "text/latex": [
       "$\\displaystyle \\left[ \\left( 2, \\  \\frac{1}{2}\\right)\\right]$"
      ],
      "text/plain": [
       "[(2, 1/2)]"
      ]
     },
     "execution_count": 25,
     "metadata": {},
     "output_type": "execute_result"
    }
   ],
   "source": [
    "solve([x*y - 1, x - 2], x, y)"
   ]
  },
  {
   "cell_type": "markdown",
   "metadata": {},
   "source": [
    "### Álgebra lineal\n",
    "\n",
    "Usamos ``Matrix`` para crear matrices. Las matrices pueden contener variables y expresiones matemáticas.\n",
    "\n",
    "Usamos el método ``.inv()`` para calcular la inversa, y ``*`` para multiplicar matrices."
   ]
  },
  {
   "cell_type": "code",
   "execution_count": null,
   "metadata": {},
   "outputs": [],
   "source": [
    "A = Matrix([\n",
    "        [1, -1],\n",
    "        [1, sin(c)]\n",
    "    ])\n",
    "display(A)"
   ]
  },
  {
   "cell_type": "code",
   "execution_count": null,
   "metadata": {},
   "outputs": [],
   "source": [
    "B = A.inv()\n",
    "display(B)"
   ]
  },
  {
   "cell_type": "code",
   "execution_count": null,
   "metadata": {},
   "outputs": [],
   "source": [
    "A * B"
   ]
  },
  {
   "cell_type": "markdown",
   "metadata": {},
   "source": [
    "Esta expresión debería ser la matriz identidad, simplifiquemos la expresión.\n",
    "Existen varias formas de simplificar expresiones, y ``simplify`` es la más general."
   ]
  },
  {
   "cell_type": "code",
   "execution_count": null,
   "metadata": {},
   "outputs": [],
   "source": [
    "simplify(A * B)"
   ]
  },
  {
   "cell_type": "markdown",
   "metadata": {},
   "source": [
    "### Graficación\n",
    "\n",
    "SymPy permite realizar gráficos 2D y 3D"
   ]
  },
  {
   "cell_type": "code",
   "execution_count": null,
   "metadata": {},
   "outputs": [],
   "source": [
    "from sympy.plotting import plot3d"
   ]
  },
  {
   "cell_type": "code",
   "execution_count": null,
   "metadata": {},
   "outputs": [],
   "source": [
    "plot(sin(x), (x, -pi, pi));"
   ]
  },
  {
   "cell_type": "code",
   "execution_count": null,
   "metadata": {},
   "outputs": [],
   "source": [
    "monkey_saddle = x**3 - 3*x*y**2\n",
    "p = plot3d(monkey_saddle, (x, -2, 2), (y, -2, 2))"
   ]
  },
  {
   "cell_type": "markdown",
   "metadata": {},
   "source": [
    "### Derivadas y ecuaciones diferenciales\n",
    "\n",
    "Podemos usar la función ``diff`` o el método ``.diff()`` para calcular derivadas."
   ]
  },
  {
   "cell_type": "code",
   "execution_count": null,
   "metadata": {},
   "outputs": [],
   "source": [
    "f = lambda x: x**2"
   ]
  },
  {
   "cell_type": "code",
   "execution_count": null,
   "metadata": {},
   "outputs": [],
   "source": [
    "diff(f(x), x)"
   ]
  },
  {
   "cell_type": "code",
   "execution_count": null,
   "metadata": {},
   "outputs": [],
   "source": [
    "f(x).diff(x)"
   ]
  },
  {
   "cell_type": "code",
   "execution_count": null,
   "metadata": {},
   "outputs": [],
   "source": [
    "g = lambda x: sin(x)"
   ]
  },
  {
   "cell_type": "code",
   "execution_count": null,
   "metadata": {},
   "outputs": [],
   "source": [
    "diff(g(f(x)), x)"
   ]
  },
  {
   "cell_type": "markdown",
   "metadata": {},
   "source": [
    "Y sí, ¡SymPy sabe sobre la regla de la cadena!\n",
    "\n",
    "Para terminar, resolvamos una ecuación diferencial de segundo orden\n",
    "\n",
    "$$ u''(t) + \\omega^2 u(t) = 0$$"
   ]
  },
  {
   "cell_type": "code",
   "execution_count": null,
   "metadata": {},
   "outputs": [],
   "source": [
    "t = symbols(\"t\")\n",
    "u = symbols(\"u\", cls=Function)\n",
    "omega = symbols(\"omega\", positive=True)"
   ]
  },
  {
   "cell_type": "code",
   "execution_count": null,
   "metadata": {},
   "outputs": [],
   "source": [
    "ode = u(t).diff(t, 2) + omega**2 * u(t)\n",
    "dsolve(ode, u(t))"
   ]
  },
  {
   "cell_type": "markdown",
   "metadata": {},
   "source": [
    "## Convertir expresiones de SymPy en funciones de NumPy\n",
    "\n",
    "``lambdify`` permite convertir expresiones de sympy en funciones para hacer cálculos usando NumPy.\n",
    "\n",
    "Veamos cómo."
   ]
  },
  {
   "cell_type": "code",
   "execution_count": null,
   "metadata": {},
   "outputs": [],
   "source": [
    "f = lambdify(x, x**2, \"numpy\")\n",
    "f(3)"
   ]
  },
  {
   "cell_type": "code",
   "execution_count": null,
   "metadata": {},
   "outputs": [],
   "source": [
    "f(np.array([1, 2, 3]))"
   ]
  },
  {
   "cell_type": "markdown",
   "metadata": {},
   "source": [
    "Intentemos un ejemplo más complejo"
   ]
  },
  {
   "cell_type": "code",
   "execution_count": null,
   "metadata": {},
   "outputs": [],
   "source": [
    "fun = diff(sin(x)*cos(x**3) - sin(x)/x, x)\n",
    "fun"
   ]
  },
  {
   "cell_type": "code",
   "execution_count": null,
   "metadata": {},
   "outputs": [],
   "source": [
    "fun_numpy = lambdify(x, fun, \"numpy\")"
   ]
  },
  {
   "cell_type": "markdown",
   "metadata": {},
   "source": [
    "y evalúemoslo en algún intervalo, por ejemplo, $[0, 5]$."
   ]
  },
  {
   "cell_type": "code",
   "execution_count": null,
   "metadata": {},
   "outputs": [],
   "source": [
    "pts = np.linspace(0, 5, 1000)\n",
    "fun_pts = fun_numpy(pts + 1e-6) # Para evitar división por 0"
   ]
  },
  {
   "cell_type": "code",
   "execution_count": null,
   "metadata": {},
   "outputs": [],
   "source": [
    "plt.figure()\n",
    "plt.plot(pts, fun_pts)"
   ]
  },
  {
   "cell_type": "markdown",
   "metadata": {},
   "source": [
    "## Ejercicios\n",
    "\n",
    "1. Calcule el límite\n",
    "\n",
    "  $$ \\lim_{x \\rightarrow 0} \\frac{\\sin(x)}{x}\\, .$$\n",
    "\n",
    "2. Resuelva la ecuación diferencial de Bernoulli\n",
    "\n",
    "  $$x \\frac{\\mathrm{d} u(x)}{\\mathrm{d}x}  + u(x) - u(x)^2 = 0\\, .$$\n"
   ]
  },
  {
   "cell_type": "markdown",
   "metadata": {},
   "source": [
    "## Recursos adicionales\n",
    "\n",
    "- Equipo de desarrollo de SymPy. [SymPy Tutorial](http://docs.sympy.org/latest/tutorial/index.html), (2018). Consultado: Marzo 22, 2024.\n",
    "- Ivan Savov. [Taming math and physics using SymPy](https://minireference.com/static/tutorials/sympy_tutorial.pdf), (2017). Consultado: Marzo 22, 2024."
   ]
  },
  {
   "cell_type": "code",
   "execution_count": null,
   "metadata": {},
   "outputs": [],
   "source": []
  },
  {
   "cell_type": "code",
   "execution_count": null,
   "metadata": {},
   "outputs": [],
   "source": []
  }
 ],
 "metadata": {
  "anaconda-cloud": {},
  "kernelspec": {
   "display_name": "Python 3 (ipykernel)",
   "language": "python",
   "name": "python3"
  },
  "language_info": {
   "codemirror_mode": {
    "name": "ipython",
    "version": 3
   },
   "file_extension": ".py",
   "mimetype": "text/x-python",
   "name": "python",
   "nbconvert_exporter": "python",
   "pygments_lexer": "ipython3",
   "version": "3.11.5"
  }
 },
 "nbformat": 4,
 "nbformat_minor": 4
}
